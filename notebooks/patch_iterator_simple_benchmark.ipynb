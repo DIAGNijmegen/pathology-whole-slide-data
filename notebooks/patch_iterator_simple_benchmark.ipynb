{
 "cells": [
  {
   "cell_type": "code",
   "execution_count": 1,
   "id": "46bff82e-0806-48ea-bd06-58ed2136b61b",
   "metadata": {},
   "outputs": [],
   "source": [
    "import subprocess\n",
    "import sys\n",
    "from pathlib import Path\n",
    "import gdown\n",
    "\n",
    "WSI_DOWNLOAD_LINK = \"https://drive.google.com/uc?id=1noRtbC5fxBlnO7YnvktjIDhFI61PdOSB\"\n",
    "WSI_NAME = Path(\"TCGA-21-5784-01Z-00-DX1.tif\")\n",
    "OUTPUT_FOLDER = Path('/tmp/')\n",
    "\n",
    "def download(output_folder, download_link, name):\n",
    "    output_path = Path(output_folder) / name\n",
    "    if not output_path.exists():\n",
    "        gdown.download(download_link, str(output_path))\n",
    "\n",
    "download(OUTPUT_FOLDER, WSI_DOWNLOAD_LINK, WSI_NAME)"
   ]
  },
  {
   "cell_type": "code",
   "execution_count": 2,
   "id": "4dc3bdce",
   "metadata": {},
   "outputs": [],
   "source": [
    "import multiresolutionimageinterface as mir\n",
    "from wholeslidedata.iterators import create_patch_iterator\n",
    "import time\n",
    "TILE_SIZE = 512\n",
    "LEVEL = 0\n",
    "SPACING = 0.5\n",
    "IMAGE_PATH = \"/tmp/TCGA-21-5784-01Z-00-DX1.tif\""
   ]
  },
  {
   "cell_type": "markdown",
   "id": "8add6551-31f6-488f-a57f-702c7115162f",
   "metadata": {},
   "source": [
    "## MultiResolutionImageInterface"
   ]
  },
  {
   "cell_type": "code",
   "execution_count": 3,
   "id": "1f9ff812",
   "metadata": {},
   "outputs": [
    {
     "name": "stdout",
     "output_type": "stream",
     "text": [
      "init time 0.002272367477416992\n",
      "spacing level 0: (0.5054008297457606, 0.5054008297457606)\n",
      "sampling time 8.706735849380493\n"
     ]
    }
   ],
   "source": [
    "t1_init = time.time()\n",
    "reader = mir.MultiResolutionImageReader()\n",
    "image = reader.open(IMAGE_PATH)\n",
    "dimensions = image.getDimensions()\n",
    "spacing = image.getSpacing()\n",
    "\n",
    "print(\"init time\", time.time()-t1_init)\n",
    "print(\"spacing level 0:\", spacing)\n",
    "\n",
    "t1_sampling = time.time()\n",
    "for y in range(0, dimensions[1], TILE_SIZE):\n",
    "    for x in range(0, dimensions[0], TILE_SIZE):\n",
    "        image_tile = image.getUCharPatch(startX=x, startY=y, width=TILE_SIZE, height=TILE_SIZE, level=LEVEL)\n",
    "print(\"sampling time\", time.time()-t1_sampling)"
   ]
  },
  {
   "cell_type": "markdown",
   "id": "75e84fad-5cf7-4acf-9f50-dd2cdca3fea1",
   "metadata": {},
   "source": [
    "## WholeSlideData (4 CPUs)"
   ]
  },
  {
   "cell_type": "code",
   "execution_count": 4,
   "id": "7d62155b",
   "metadata": {},
   "outputs": [
    {
     "name": "stdout",
     "output_type": "stream",
     "text": [
      "init time 0.14844727516174316\n",
      "sampling time 2.936852216720581\n"
     ]
    }
   ],
   "source": [
    "CPUS = 4\n",
    "t1_init = time.time()\n",
    "patch_iterator = create_patch_iterator(image_path=IMAGE_PATH, tile_shape=(TILE_SIZE,TILE_SIZE,3), spacing=SPACING, cpus=CPUS)\n",
    "print(\"init time\", time.time()-t1_init)\n",
    "t1_sampling = time.time()\n",
    "for idx, (patch, info) in enumerate(patch_iterator):\n",
    "    pass\n",
    "print(\"sampling time\", time.time()-t1_sampling )\n",
    "patch_iterator.stop()"
   ]
  },
  {
   "cell_type": "markdown",
   "id": "3069dcdd-0e90-406d-b75c-b4560a3c9879",
   "metadata": {},
   "source": [
    "## WholeSlideData (8 CPUs)"
   ]
  },
  {
   "cell_type": "code",
   "execution_count": 5,
   "id": "544f20b7",
   "metadata": {},
   "outputs": [
    {
     "name": "stdout",
     "output_type": "stream",
     "text": [
      "init time 0.22319579124450684\n",
      "sampling time 1.764139175415039\n"
     ]
    }
   ],
   "source": [
    "CPUS = 8\n",
    "t1_init = time.time()\n",
    "patch_iterator = create_patch_iterator(image_path=IMAGE_PATH,tile_shape=(TILE_SIZE,TILE_SIZE,3), spacing=SPACING, cpus=CPUS)\n",
    "print(\"init time\", time.time()-t1_init)\n",
    "t1_sampling  = time.time()\n",
    "for idx, (patch, info) in enumerate(patch_iterator):\n",
    "    pass\n",
    "print(\"sampling time\", time.time()-t1_sampling )\n",
    "patch_iterator.stop()"
   ]
  },
  {
   "cell_type": "markdown",
   "id": "ace9fd10-3f5f-487c-8a79-355c38bedea4",
   "metadata": {},
   "source": [
    "## WholeSlideData (16 CPUs)"
   ]
  },
  {
   "cell_type": "code",
   "execution_count": 6,
   "id": "e1a28db9",
   "metadata": {},
   "outputs": [
    {
     "name": "stdout",
     "output_type": "stream",
     "text": [
      "init time 0.31551432609558105\n",
      "sampling time 1.5458989143371582\n"
     ]
    }
   ],
   "source": [
    "CPUS = 16\n",
    "t1_init = time.time()\n",
    "patch_iterator = create_patch_iterator(image_path=IMAGE_PATH, tile_shape=(TILE_SIZE,TILE_SIZE,3), spacing=SPACING, cpus=CPUS)\n",
    "print(\"init time\", time.time()-t1_init)\n",
    "t1_sampling = time.time()\n",
    "for idx, (patch, info) in enumerate(patch_iterator):\n",
    "    pass\n",
    "print(\"sampling time\", time.time()-t1_sampling)\n",
    "patch_iterator.stop()"
   ]
  }
 ],
 "metadata": {
  "kernelspec": {
   "display_name": "Python 3",
   "language": "python",
   "name": "python3"
  },
  "language_info": {
   "codemirror_mode": {
    "name": "ipython",
    "version": 3
   },
   "file_extension": ".py",
   "mimetype": "text/x-python",
   "name": "python",
   "nbconvert_exporter": "python",
   "pygments_lexer": "ipython3",
   "version": "3.8.10"
  }
 },
 "nbformat": 4,
 "nbformat_minor": 5
}
