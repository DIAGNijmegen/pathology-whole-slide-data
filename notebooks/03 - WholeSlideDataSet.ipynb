{
 "cells": [
  {
   "cell_type": "code",
   "execution_count": null,
   "metadata": {},
   "outputs": [],
   "source": [
    "# download example data\n",
    "from downloaddata import download_example_data\n",
    "download_example_data()"
   ]
  },
  {
   "cell_type": "markdown",
   "metadata": {},
   "source": [
    "## WholeSlideDataSet"
   ]
  },
  {
   "cell_type": "code",
   "execution_count": null,
   "metadata": {},
   "outputs": [],
   "source": [
    "from wholeslidedata.dataset import WholeSlideDataSet\n",
    "from wholeslidedata.source.utils import whole_slide_files_from_folder_factory\n",
    "from wholeslidedata.source.associations import associate_files\n",
    "from matplotlib import pyplot as plt\n",
    "from wholeslidedata.annotation import utils as annotation_utils"
   ]
  },
  {
   "cell_type": "markdown",
   "metadata": {},
   "source": [
    "### Get images and annotations files from folder"
   ]
  },
  {
   "cell_type": "code",
   "execution_count": null,
   "metadata": {},
   "outputs": [],
   "source": [
    "folder = '/tmp/'\n",
    "\n",
    "image_files = whole_slide_files_from_folder_factory(folder, 'wsi', excludes=('mask',), image_backend='openslide')\n",
    "annotation_files = whole_slide_files_from_folder_factory(folder, 'wsa', excludes=('tif',), annotation_parser='asap')\n",
    "\n",
    "print(f'image files found in {folder}')\n",
    "print(image_files)\n",
    "print()\n",
    "print(f'annotation files found in {folder}')\n",
    "print(annotation_files)\n",
    "\n",
    "print('\\nimage and annotation path:')\n",
    "print('image_file', image_files[0].path)\n",
    "print('annotation_file', annotation_files[0].path)"
   ]
  },
  {
   "cell_type": "markdown",
   "metadata": {},
   "source": [
    "\n"
   ]
  },
  {
   "cell_type": "markdown",
   "metadata": {},
   "source": [
    "### Associate images and annotations"
   ]
  },
  {
   "cell_type": "code",
   "execution_count": null,
   "metadata": {},
   "outputs": [],
   "source": [
    "associations = associate_files(image_files, annotation_files)\n",
    "for file_key, files in associations.items():\n",
    "    print('file key: ', file_key)\n",
    "    print()\n",
    "    for file_type, file_type_files in files.items():\n",
    "        print(file_type)\n",
    "        print(file_type_files)\n",
    "        print()"
   ]
  },
  {
   "cell_type": "markdown",
   "metadata": {},
   "source": [
    "Above we can see that the image file and annotation file are associated with the same file key. With an association dictionary we can build a wholeslidedataset as follows:"
   ]
  },
  {
   "cell_type": "markdown",
   "metadata": {},
   "source": [
    "### Create a dataset"
   ]
  },
  {
   "cell_type": "code",
   "execution_count": null,
   "metadata": {},
   "outputs": [],
   "source": [
    "dataset = WholeSlideDataSet(mode='default', associations=associations, labels=['lymphocytes', 'stroma', 'tumor'], copy_path='/tmp/data')"
   ]
  },
  {
   "cell_type": "code",
   "execution_count": null,
   "metadata": {},
   "outputs": [],
   "source": [
    "# print some statistics\n",
    "print(dataset.annotations_per_label_per_key)"
   ]
  },
  {
   "cell_type": "code",
   "execution_count": null,
   "metadata": {},
   "outputs": [],
   "source": [
    "print(dataset.sample_references.keys())\n",
    "print()\n",
    "lymphocytes_references = dataset.sample_references['lymphocytes']\n",
    "print('lymphcytes annotation references')\n",
    "for lymphocyte_reference in lymphocytes_references:\n",
    "    print(lymphocyte_reference)\n"
   ]
  },
  {
   "cell_type": "code",
   "execution_count": null,
   "metadata": {},
   "outputs": [],
   "source": [
    "fig, ax = plt.subplots(1,len(lymphocytes_references), figsize=(15,5))\n",
    "for idx, lymphocyte_reference in enumerate(lymphocytes_references):\n",
    "    # get the associated image\n",
    "    image = dataset.get_image_from_reference(lymphocyte_reference)\n",
    "    # get the polygon from the associated annotations\n",
    "    wsa = dataset.get_annotation_from_reference(lymphocyte_reference)\n",
    "    lymphocytes_annotation = wsa.annotations[lymphocyte_reference.annotation_index]\n",
    "    \n",
    "    patch = image.get_annotation(lymphocytes_annotation, 0.5)\n",
    "    ax[idx].imshow(patch)\n",
    "    title = f'lymhocytes {idx}\\n area={int(lymphocytes_annotation.area)}'\n",
    "    annotation_utils.plot_annotations([lymphocytes_annotation], title=title, ax=ax[idx], use_base_coordinates=True)\n",
    "plt.show()"
   ]
  },
  {
   "cell_type": "code",
   "execution_count": null,
   "metadata": {},
   "outputs": [],
   "source": []
  }
 ],
 "metadata": {
  "kernelspec": {
   "display_name": "Python 3",
   "language": "python",
   "name": "python3"
  },
  "language_info": {
   "codemirror_mode": {
    "name": "ipython",
    "version": 3
   },
   "file_extension": ".py",
   "mimetype": "text/x-python",
   "name": "python",
   "nbconvert_exporter": "python",
   "pygments_lexer": "ipython3",
   "version": "3.8.11"
  }
 },
 "nbformat": 4,
 "nbformat_minor": 4
}
