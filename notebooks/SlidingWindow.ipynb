{
 "cells": [
  {
   "cell_type": "code",
   "execution_count": 1,
   "metadata": {},
   "outputs": [],
   "source": [
    "# download example data\n",
    "# !pip install gdown\n",
    "from downloaddata import download_example_data\n",
    "download_example_data()\n"
   ]
  },
  {
   "cell_type": "code",
   "execution_count": 2,
   "metadata": {},
   "outputs": [],
   "source": [
    "from wholeslidedata.iterators import create_batch_iterator\n",
    "from wholeslidedata.image.wholeslideimagewriter import WholeSlideMaskWriter\n",
    "from wholeslidedata.image.wholeslideimage import WholeSlideImage\n",
    "import time\n",
    "from pprint import pprint\n",
    "from tqdm.notebook import tqdm\n",
    "from matplotlib import pyplot as plt"
   ]
  },
  {
   "cell_type": "code",
   "execution_count": 3,
   "metadata": {},
   "outputs": [
    {
     "name": "stdout",
     "output_type": "stream",
     "text": [
      "Creating: ./test2.tif....\n",
      "Spacing: 0.5\n",
      "Dimensions: (36851, 25353)\n",
      "Tile_shape: (1024, 1024)\n"
     ]
    },
    {
     "data": {
      "application/vnd.jupyter.widget-view+json": {
       "model_id": "80d535b6c45f4a7c906d641e9f207067",
       "version_major": 2,
       "version_minor": 0
      },
      "text/plain": [
       "HBox(children=(HTML(value=''), FloatProgress(value=0.0, max=352.0), HTML(value='')))"
      ]
     },
     "metadata": {},
     "output_type": "display_data"
    },
    {
     "name": "stdout",
     "output_type": "stream",
     "text": [
      "\n"
     ]
    }
   ],
   "source": [
    "mode='training'\n",
    "training_iterator = create_batch_iterator(mode=mode,\n",
    "                                          user_config='./configs/slidingwindowconfig.yml',\n",
    "                                          presets=('slidingwindow',),\n",
    "                                          cpus=4, \n",
    "                                          number_of_batches=-1, \n",
    "                                          return_info=True)\n",
    "\n",
    "spacing =0.5\n",
    "tile_size = 1024\n",
    "output_size = 1030\n",
    "wsm_writer = WholeSlideMaskWriter()\n",
    "with WholeSlideImage('/tmp/TCGA-21-5784-01Z-00-DX1.tif') as wsi:\n",
    "    shape = wsi.shapes[wsi.get_level_from_spacing(spacing)]\n",
    "\n",
    "wsm_writer.write(path='./test2.tif', spacing=spacing, dimensions=shape, tile_shape=(tile_size,tile_size))\n",
    "for x_batch, y_batch, info in tqdm(training_iterator):\n",
    "    point = info['sample_references'][0]['point']\n",
    "    c, r = point.x-output_size//4, point.y-output_size//4\n",
    "    wsm_writer.write_tile(tile=y_batch[0][0],coordinates=(int(c),int(r)), mask=y_batch[0][0])\n",
    "wsm_writer.save()\n",
    "training_iterator.stop()"
   ]
  },
  {
   "cell_type": "code",
   "execution_count": 9,
   "metadata": {},
   "outputs": [
    {
     "data": {
      "text/plain": [
       "[0.2430938093312698,\n",
       " 0.4861876186625396,\n",
       " 0.9723752373250792,\n",
       " 1.9447504746501585,\n",
       " 3.8898287602042423,\n",
       " 7.780967836694896,\n",
       " 15.567182502511177,\n",
       " 31.15537457741085,\n",
       " 62.394950654330664]"
      ]
     },
     "execution_count": 9,
     "metadata": {},
     "output_type": "execute_result"
    }
   ],
   "source": [
    "WholeSlideImage('/home/mart/Radboudumc/data/breast/AQ_S02_P000174_C0001_L03_A01.tif', backend='asap').spacings"
   ]
  },
  {
   "cell_type": "code",
   "execution_count": 1,
   "metadata": {},
   "outputs": [
    {
     "data": {
      "text/plain": [
       "246"
      ]
     },
     "execution_count": 1,
     "metadata": {},
     "output_type": "execute_result"
    }
   ],
   "source": [
    "256-10"
   ]
  },
  {
   "cell_type": "code",
   "execution_count": 4,
   "metadata": {},
   "outputs": [
    {
     "data": {
      "text/plain": [
       "1.5"
      ]
     },
     "execution_count": 4,
     "metadata": {},
     "output_type": "execute_result"
    }
   ],
   "source": [
    "3/2"
   ]
  },
  {
   "cell_type": "code",
   "execution_count": null,
   "metadata": {},
   "outputs": [],
   "source": []
  }
 ],
 "metadata": {
  "kernelspec": {
   "display_name": "Python 3.7.4 64-bit ('mart': conda)",
   "language": "python",
   "name": "python37464bitmartconda794187faa7174ea8a0d3d1102791674e"
  },
  "language_info": {
   "codemirror_mode": {
    "name": "ipython",
    "version": 3
   },
   "file_extension": ".py",
   "mimetype": "text/x-python",
   "name": "python",
   "nbconvert_exporter": "python",
   "pygments_lexer": "ipython3",
   "version": "3.8.5"
  }
 },
 "nbformat": 4,
 "nbformat_minor": 4
}
