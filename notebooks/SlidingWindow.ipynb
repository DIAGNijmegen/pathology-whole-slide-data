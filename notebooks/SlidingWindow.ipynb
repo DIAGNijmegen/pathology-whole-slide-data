{
 "cells": [
  {
   "cell_type": "code",
   "execution_count": 1,
   "metadata": {},
   "outputs": [
    {
     "name": "stderr",
     "output_type": "stream",
     "text": [
      "Downloading...\n",
      "From: https://drive.google.com/uc?id=1noRtbC5fxBlnO7YnvktjIDhFI61PdOSB\n",
      "To: /tmp/TCGA-21-5784-01Z-00-DX1.tif\n",
      "100%|██████████| 363M/363M [00:11<00:00, 30.3MB/s] \n",
      "Downloading...\n",
      "From: https://drive.google.com/uc?id=1jkTp0IJHHpmLd1yDO1L3KRFJgm0STh0d\n",
      "To: /tmp/TCGA-21-5784-01Z-00-DX1.xml\n",
      "100%|██████████| 9.67k/9.67k [00:00<00:00, 12.1MB/s]\n",
      "Downloading...\n",
      "From: https://drive.google.com/uc?id=1nLdKzSLq79mon1RCevgEmG59E8Oq9JhZ\n",
      "To: /tmp/TCGA-21-5784-01Z-00-DX1_tb_mask.tif\n",
      "100%|██████████| 318k/318k [00:00<00:00, 5.35MB/s]\n"
     ]
    }
   ],
   "source": [
    "# download example data\n",
    "# !pip install gdown\n",
    "from downloaddata import download_example_data\n",
    "download_example_data()\n"
   ]
  },
  {
   "cell_type": "code",
   "execution_count": 3,
   "metadata": {},
   "outputs": [],
   "source": [
    "from wholeslidedata.iterators import create_batch_iterator\n",
    "from wholeslidedata.image.wholeslideimagewriter import WholeSlideMaskWriter\n",
    "from wholeslidedata.image.wholeslideimage import WholeSlideImage\n",
    "import time\n",
    "from pprint import pprint\n",
    "from tqdm.notebook import tqdm"
   ]
  },
  {
   "cell_type": "code",
   "execution_count": 4,
   "metadata": {},
   "outputs": [
    {
     "name": "stdout",
     "output_type": "stream",
     "text": [
      "Creating: ./test2.tif....\n",
      "Spacing: 0.5\n",
      "Dimensions: (36851, 25353)\n",
      "Tile_shape: (1024, 1024)\n"
     ]
    },
    {
     "data": {
      "application/vnd.jupyter.widget-view+json": {
       "model_id": "bda0554812d846acb9a5ff819198d274",
       "version_major": 2,
       "version_minor": 0
      },
      "text/plain": [
       "HBox(children=(HTML(value=''), FloatProgress(value=0.0, max=352.0), HTML(value='')))"
      ]
     },
     "metadata": {},
     "output_type": "display_data"
    },
    {
     "name": "stdout",
     "output_type": "stream",
     "text": [
      "\n"
     ]
    }
   ],
   "source": [
    "mode='training'\n",
    "training_iterator = create_batch_iterator(mode=mode,\n",
    "                                          user_config='./configs/slidingwindowconfig.yml',\n",
    "                                          presets=('slidingwindow',),\n",
    "                                          cpus=4, \n",
    "                                          number_of_batches=-1, \n",
    "                                          return_info=True)\n",
    "\n",
    "spacing =0.5\n",
    "tile_size = 1024\n",
    "wsm_writer = WholeSlideMaskWriter()\n",
    "with WholeSlideImage('/tmp/TCGA-21-5784-01Z-00-DX1.tif') as wsi:\n",
    "    shape = wsi.shapes[wsi.get_level_from_spacing(spacing)]\n",
    "\n",
    "wsm_writer.write(path='./test2.tif', spacing=spacing, dimensions=shape, tile_shape=(tile_size,tile_size))\n",
    "for x_batch, y_batch, info in tqdm(training_iterator):\n",
    "    point = info['sample_references'][0]['point']\n",
    "    c, r = point.x+tile_size//2, point.y+tile_size//2\n",
    "    wsm_writer.write_tile(tile=y_batch[0],coordinates=(int(c),int(r)), mask=y_batch[0])\n",
    "wsm_writer.save()\n",
    "training_iterator.stop()"
   ]
  },
  {
   "cell_type": "code",
   "execution_count": null,
   "metadata": {},
   "outputs": [],
   "source": []
  }
 ],
 "metadata": {
  "kernelspec": {
   "display_name": "Python 3.7.4 64-bit ('mart': conda)",
   "language": "python",
   "name": "python37464bitmartconda794187faa7174ea8a0d3d1102791674e"
  },
  "language_info": {
   "codemirror_mode": {
    "name": "ipython",
    "version": 3
   },
   "file_extension": ".py",
   "mimetype": "text/x-python",
   "name": "python",
   "nbconvert_exporter": "python",
   "pygments_lexer": "ipython3",
   "version": "3.8.5"
  }
 },
 "nbformat": 4,
 "nbformat_minor": 4
}
