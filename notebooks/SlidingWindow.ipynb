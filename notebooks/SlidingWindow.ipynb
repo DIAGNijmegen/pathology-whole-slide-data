{
 "cells": [
  {
   "cell_type": "code",
   "execution_count": 1,
   "metadata": {},
   "outputs": [],
   "source": [
    "# download example data\n",
    "# !pip install gdown\n",
    "from downloaddata import download_example_data\n",
    "download_example_data()\n"
   ]
  },
  {
   "cell_type": "code",
   "execution_count": 5,
   "metadata": {},
   "outputs": [],
   "source": [
    "from wholeslidedata.iterators import create_batch_iterator\n",
    "from wholeslidedata.accessories.asap.imagewriter import WholeSlideMaskWriter\n",
    "from wholeslidedata.image.wholeslideimage import WholeSlideImage\n",
    "import time\n",
    "from pprint import pprint\n",
    "from tqdm.notebook import tqdm\n",
    "from matplotlib import pyplot as plt"
   ]
  },
  {
   "cell_type": "code",
   "execution_count": 7,
   "metadata": {},
   "outputs": [],
   "source": [
    "from wholeslidedata.image.wholeslideimage import WholeSlideImage"
   ]
  },
  {
   "cell_type": "code",
   "execution_count": 8,
   "metadata": {},
   "outputs": [],
   "source": [
    "image = WholeSlideImage('/tmp/TCGA-21-5784-01Z-00-DX1_tb_mask.tif', backend='asap')"
   ]
  },
  {
   "cell_type": "code",
   "execution_count": 9,
   "metadata": {},
   "outputs": [
    {
     "data": {
      "text/plain": [
       "[2.0217639732716486,\n",
       " 4.043527946543297,\n",
       " 8.087055893086594,\n",
       " 16.181137798516215,\n",
       " 32.390418208492044]"
      ]
     },
     "execution_count": 9,
     "metadata": {},
     "output_type": "execute_result"
    }
   ],
   "source": [
    "image.spacings"
   ]
  },
  {
   "cell_type": "code",
   "execution_count": 11,
   "metadata": {},
   "outputs": [
    {
     "name": "stdout",
     "output_type": "stream",
     "text": [
      "Creating: ./test2.tif....\n",
      "Spacing: 0.5\n",
      "Dimensions: (36851, 25353)\n",
      "Tile_shape: (1024, 1024)\n"
     ]
    },
    {
     "data": {
      "application/vnd.jupyter.widget-view+json": {
       "model_id": "aff4c2644829489eb9d9d58873b07eb1",
       "version_major": 2,
       "version_minor": 0
      },
      "text/plain": [
       "  0%|          | 0/352 [00:00<?, ?it/s]"
      ]
     },
     "metadata": {},
     "output_type": "display_data"
    }
   ],
   "source": [
    "mode='training'\n",
    "training_iterator = create_batch_iterator(mode=mode,\n",
    "                                          user_config='./configs/slidingwindowconfig.yml',\n",
    "                                          presets=('slidingwindow',),\n",
    "                                          cpus=4, \n",
    "                                          number_of_batches=-1, \n",
    "                                          return_info=True)\n",
    "\n",
    "spacing =0.5\n",
    "tile_size = 1024\n",
    "output_size = 1030\n",
    "wsm_writer = WholeSlideMaskWriter()\n",
    "with WholeSlideImage('/tmp/TCGA-21-5784-01Z-00-DX1.tif') as wsi:\n",
    "    shape = wsi.shapes[wsi.get_level_from_spacing(spacing)]\n",
    "\n",
    "wsm_writer.write(path='./test2.tif', spacing=spacing, dimensions=shape, tile_shape=(tile_size,tile_size))\n",
    "for x_batch, y_batch, info in tqdm(training_iterator):\n",
    "    point = info['sample_references'][0]['point']\n",
    "    c, r = point.x-output_size//4, point.y-output_size//4\n",
    "    wsm_writer.write_tile(tile=y_batch[0],coordinates=(int(c),int(r)), mask=y_batch[0])\n",
    "wsm_writer.save()\n",
    "training_iterator.stop()"
   ]
  },
  {
   "cell_type": "code",
   "execution_count": null,
   "metadata": {},
   "outputs": [],
   "source": []
  }
 ],
 "metadata": {
  "kernelspec": {
   "display_name": "Python 3",
   "language": "python",
   "name": "python3"
  },
  "language_info": {
   "codemirror_mode": {
    "name": "ipython",
    "version": 3
   },
   "file_extension": ".py",
   "mimetype": "text/x-python",
   "name": "python",
   "nbconvert_exporter": "python",
   "pygments_lexer": "ipython3",
   "version": "3.8.10"
  }
 },
 "nbformat": 4,
 "nbformat_minor": 4
}
