{
 "cells": [
  {
   "cell_type": "markdown",
   "id": "b969de5f",
   "metadata": {},
   "source": [
    "# Sliding window over labels"
   ]
  },
  {
   "cell_type": "code",
   "execution_count": 3,
   "id": "e24e896d-f935-4ecf-8ef9-ce4f54a4d7b7",
   "metadata": {},
   "outputs": [],
   "source": [
    "# # download example data\n",
    "# # !pip install gdown\n",
    "from downloaddata import download_example_data\n",
    "download_example_data()"
   ]
  },
  {
   "cell_type": "code",
   "execution_count": 4,
   "id": "342ec35b",
   "metadata": {},
   "outputs": [],
   "source": [
    "from pathlib import Path\n",
    "\n",
    "from matplotlib import pyplot as plt\n",
    "\n",
    "from wholeslidedata import WholeSlideImage, WholeSlideAnnotation\n",
    "from wholeslidedata.annotation.parser import AnnotationParser\n",
    "from wholeslidedata.annotation.hooks import TiledAnnotationHook\n",
    "from wholeslidedata.iterators import create_batch_iterator"
   ]
  },
  {
   "cell_type": "code",
   "execution_count": 5,
   "id": "37576f42",
   "metadata": {},
   "outputs": [],
   "source": [
    "annotation_path = \"/tmp/TCGA-21-5784-01Z-00-DX1.xml\"\n",
    "image_path = \"/tmp/TCGA-21-5784-01Z-00-DX1.tif\""
   ]
  },
  {
   "cell_type": "code",
   "execution_count": 6,
   "id": "7577d068",
   "metadata": {},
   "outputs": [
    {
     "name": "stdout",
     "output_type": "stream",
     "text": [
      "20\n"
     ]
    }
   ],
   "source": [
    "parser = AnnotationParser.create('asap', labels=['lymphocytes'], hooks=(TiledAnnotationHook(tile_size=256, ratio=1, label_names=['lymphocytes']),))\n",
    "wsa = WholeSlideAnnotation(annotation_path, parser=parser)\n",
    "print(len(wsa.annotations))"
   ]
  },
  {
   "cell_type": "code",
   "execution_count": 8,
   "id": "cc865078",
   "metadata": {},
   "outputs": [],
   "source": [
    "batch_iterator = create_batch_iterator(user_config='./configs/slidingwindowsampling.yml', \n",
    "                                       mode='training', \n",
    "                                       number_of_batches=-1)\n",
    "\n",
    "print(len(batch_iterator))\n",
    "for x_batch, y_batch, info in batch_iterator:\n",
    "    for x_sample, sample_reference in zip(x_batch, info['sample_references']):\n",
    "        annotation = batch_iterator.dataset.get_annotation_from_reference(sample_reference['reference'])\n",
    "        plt.title('center point: '+ str(sample_reference['point']) + '\\n Label: ' + annotation.label.name)\n",
    "        plt.imshow(x_sample)\n",
    "        plt.show()\n",
    "        \n",
    "batch_iterator.stop()"
   ]
  },
  {
   "cell_type": "code",
   "execution_count": null,
   "id": "d5942519-cc13-4a3f-aa63-bfa3acc09ca1",
   "metadata": {},
   "outputs": [],
   "source": []
  }
 ],
 "metadata": {
  "kernelspec": {
   "display_name": "Python 3",
   "language": "python",
   "name": "python3"
  },
  "language_info": {
   "codemirror_mode": {
    "name": "ipython",
    "version": 3
   },
   "file_extension": ".py",
   "mimetype": "text/x-python",
   "name": "python",
   "nbconvert_exporter": "python",
   "pygments_lexer": "ipython3",
   "version": "3.8.10"
  }
 },
 "nbformat": 4,
 "nbformat_minor": 5
}
