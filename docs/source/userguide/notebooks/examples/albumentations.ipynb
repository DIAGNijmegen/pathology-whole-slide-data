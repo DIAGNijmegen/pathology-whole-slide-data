{
 "cells": [
  {
   "cell_type": "markdown",
   "id": "e4888fba",
   "metadata": {},
   "source": [
    "# Albumentations\n",
    "\n",
    "## Coming soon...."
   ]
  },
  {
   "cell_type": "code",
   "execution_count": null,
   "id": "37aa943d",
   "metadata": {},
   "outputs": [],
   "source": []
  }
 ],
 "metadata": {
  "kernelspec": {
   "display_name": "Python 3 (ipykernel)",
   "language": "python",
   "name": "python3"
  },
  "language_info": {
   "codemirror_mode": {
    "name": "ipython",
    "version": 3
   },
   "file_extension": ".py",
   "mimetype": "text/x-python",
   "name": "python",
   "nbconvert_exporter": "python",
   "pygments_lexer": "ipython3",
   "version": "3.9.15"
  },
  "vscode": {
   "interpreter": {
    "hash": "5de869f4d95af16f18ca3ad95ada92c2a7a06cf9bd99913b2af9f3a6cdfe3395"
   }
  }
 },
 "nbformat": 4,
 "nbformat_minor": 5
}
