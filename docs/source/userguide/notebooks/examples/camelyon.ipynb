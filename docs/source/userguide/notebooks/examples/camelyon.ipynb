{
 "cells": [
  {
   "cell_type": "markdown",
   "id": "e2bee309",
   "metadata": {},
   "source": [
    "# Camelyon"
   ]
  },
  {
   "cell_type": "code",
   "execution_count": null,
   "id": "67b2cde9",
   "metadata": {},
   "outputs": [],
   "source": []
  }
 ],
 "metadata": {
  "kernelspec": {
   "display_name": "Python 3",
   "language": "python",
   "name": "python3"
  },
  "language_info": {
   "codemirror_mode": {
    "name": "ipython",
    "version": 3
   },
   "file_extension": ".py",
   "mimetype": "text/x-python",
   "name": "python",
   "nbconvert_exporter": "python",
   "pygments_lexer": "ipython3",
   "version": "3.8.5"
  }
 },
 "nbformat": 4,
 "nbformat_minor": 5
}
