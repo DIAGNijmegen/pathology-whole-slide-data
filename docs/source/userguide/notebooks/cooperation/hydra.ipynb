{
 "cells": [
  {
   "cell_type": "markdown",
   "id": "f147d24f",
   "metadata": {},
   "source": [
    "# Hydra"
   ]
  },
  {
   "cell_type": "code",
   "execution_count": null,
   "id": "4df83b6e",
   "metadata": {},
   "outputs": [],
   "source": [
    "from functools import partial\n",
    "\n",
    "import hydra\n",
    "from hydra.utils import instantiate\n",
    "from omegaconf import OmegaConf\n",
    "import torch\n",
    "\n",
    "\n",
    "class BoringModel(pl.LightningModule):\n",
    "\n",
    "    def __init__(self, optim_partial, in_feats=4, out_feats=2):\n",
    "        super().__init__()\n",
    "\n",
    "        # Hydra config components\n",
    "        self.optim_partial = optim_partial\n",
    "        self.in_feats = in_feats\n",
    "        self.out_feats = out_feats\n",
    "\n",
    "        # Control weight randomness\n",
    "        pl.seed_everything(1234)\n",
    "        self.layer = torch.nn.Linear(in_feats, out_feats)\n",
    "\n",
    "    def forward(self, x):\n",
    "        return self.layer(x)\n",
    "\n",
    "    def configure_optimizers(self):\n",
    "        return self.optim_partial(self.parameters())\n",
    "\n",
    "\n",
    "# Plain python approach\n",
    "model = BoringModel(optim_partial=partial(torch.optim.Adam, lr=1e-5, weight_decay=0.2))\n",
    "optimizer = model.configure_optimizers()\n",
    "\n",
    "# Partial instantiate approach\n",
    "OmegaConf.register_new_resolver(\"get_method\", hydra.utils.get_method)\n",
    "cfg = {\n",
    "    '_target_': '__main__.BoringModel',\n",
    "    'in_feats': 4,\n",
    "    'out_feats': 2,\n",
    "    'optim_partial': {\n",
    "        '_target_': 'functools.partial',\n",
    "        '_args_': ['${get_method: torch.optim.Adam}'],\n",
    "        'lr': 1e-5,\n",
    "        'weight_decay': 0.2}}\n",
    "model2 = instantiate(cfg)\n",
    "optimizer2 = model2.configure_optimizers()"
   ]
  },
  {
   "cell_type": "code",
   "execution_count": null,
   "id": "78efdcb6",
   "metadata": {},
   "outputs": [],
   "source": []
  }
 ],
 "metadata": {
  "kernelspec": {
   "display_name": "Python 3",
   "language": "python",
   "name": "python3"
  },
  "language_info": {
   "codemirror_mode": {
    "name": "ipython",
    "version": 3
   },
   "file_extension": ".py",
   "mimetype": "text/x-python",
   "name": "python",
   "nbconvert_exporter": "python",
   "pygments_lexer": "ipython3",
   "version": "3.8.5"
  }
 },
 "nbformat": 4,
 "nbformat_minor": 5
}
