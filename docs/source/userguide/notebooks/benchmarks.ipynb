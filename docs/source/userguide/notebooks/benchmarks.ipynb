{
 "cells": [
  {
   "cell_type": "markdown",
   "id": "275b29fc",
   "metadata": {},
   "source": [
    "<!-- wholeslidedata:\n",
    "    default:\n",
    "        yaml_source:\n",
    "            training:\n",
    "                - wsi: \n",
    "                    path: /tmp/TCGA-21-5784-01Z-00-DX1.tif\n",
    "                  wsa: \n",
    "                    path: /tmp/TCGA-21-5784-01Z-00-DX1.xml       \n",
    "\n",
    "        image_backed: asap\n",
    "        labels:\n",
    "            stroma: 1\n",
    "            tumor: 2\n",
    "            lymphocytes: 3\n",
    "            \n",
    "        batch_shape:\n",
    "            batch_size: 10\n",
    "            spacing: 1.0\n",
    "            shape: [1024, 1024, 3]\n",
    " -->"
   ]
  },
  {
   "cell_type": "code",
   "execution_count": 1,
   "id": "d46d80eb-8f4f-4d6d-9e63-9bb306d6ade3",
   "metadata": {},
   "outputs": [],
   "source": [
    "from wholeslidedata.iterators import create_batch_iterator\n",
    "from wholeslidedata.visualization.plotting import plot_batch\n",
    "import gc\n",
    "from  torch.utils.data import DataLoader\n",
    "from experimart.interoperability.torch.dataloader import SegmentationDataLoader\n",
    "import time\n",
    "from statistics import mean\n"
   ]
  },
  {
   "cell_type": "code",
   "execution_count": 2,
   "id": "19472f7a-d411-41f5-8f67-46a7702d0bcf",
   "metadata": {},
   "outputs": [
    {
     "name": "stdout",
     "output_type": "stream",
     "text": [
      "0.07482558965682984\n"
     ]
    }
   ],
   "source": [
    "user_config = '/home/user/pathology-whole-slide-data/docs/source/userguide/notebooks/components/configs/user_config.yml'\n",
    "mode = 'training'\n",
    "times = []\n",
    "training_batch_generator = create_batch_iterator(user_config=user_config, mode=mode, cpus=10, buffer_dtype='uint8')\n",
    "time.sleep(10)\n",
    "for i in range(200):\n",
    "    t1 = time.time()\n",
    "    data = next(training_batch_generator)\n",
    "    times.append(time.time()-t1)\n",
    "print(mean(times))"
   ]
  },
  {
   "cell_type": "code",
   "execution_count": 2,
   "id": "523dfdc6-93b6-4ed9-a002-0cb75f171290",
   "metadata": {},
   "outputs": [],
   "source": [
    "\n",
    "trainset = SegmentationDataLoader('/home/user/data/training')\n",
    "loader = iter(DataLoader(trainset, batch_size=1, shuffle=False, num_workers=9))\n",
    "\n"
   ]
  },
  {
   "cell_type": "code",
   "execution_count": 3,
   "id": "1c243c46-1916-446f-aa64-06c7e2a450ea",
   "metadata": {},
   "outputs": [
    {
     "name": "stdout",
     "output_type": "stream",
     "text": [
      "0.011541856527328491\n"
     ]
    }
   ],
   "source": [
    "times = []\n",
    "for i in range(200):\n",
    "    t1 = time.time()\n",
    "    data = next(loader)\n",
    "    times.append(time.time()-t1)\n",
    "print(mean(times))"
   ]
  },
  {
   "cell_type": "code",
   "execution_count": null,
   "id": "95e22171-fbcb-481b-b0d5-bce12b60df0d",
   "metadata": {},
   "outputs": [],
   "source": []
  }
 ],
 "metadata": {
  "kernelspec": {
   "display_name": "Python 3",
   "language": "python",
   "name": "python3"
  },
  "language_info": {
   "codemirror_mode": {
    "name": "ipython",
    "version": 3
   },
   "file_extension": ".py",
   "mimetype": "text/x-python",
   "name": "python",
   "nbconvert_exporter": "python",
   "pygments_lexer": "ipython3",
   "version": "3.8.10"
  }
 },
 "nbformat": 4,
 "nbformat_minor": 5
}
