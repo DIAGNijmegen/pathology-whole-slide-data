{
 "cells": [
  {
   "cell_type": "markdown",
   "id": "eaf2b086",
   "metadata": {},
   "source": [
    "# ImageBackend\n",
    "\n",
    "----\n"
   ]
  },
  {
   "cell_type": "code",
   "execution_count": 18,
   "id": "a4df0797",
   "metadata": {},
   "outputs": [],
   "source": [
    "from wholeslidedata.configuration.utils import formatted_yaml\n",
    "from wholeslidedata.image.backend import WholeSlideImageBackend\n",
    "from wholeslidedata import WholeSlideImage\n",
    "from wholeslidedata.iterators import create_batch_iterator"
   ]
  },
  {
   "cell_type": "markdown",
   "id": "6c5726f2",
   "metadata": {},
   "source": [
    "For opening Whole-slide images, the wholeslidedata package relies on well-known and established python libraries such as ASAP, openslide and pyvips.\n",
    "At least on of these backends needs to be installed. \n",
    "\n",
    ":::{seealso}\n",
    "Please see the installation instructions for the image backends [here]().\n",
    ":::\n",
    "\n",
    "\n",
    "\n",
    ":::{warning}\n",
    "Monochrome mask files should **not** be opened with the openslide image backend\n",
    ":::\n",
    "\n"
   ]
  },
  {
   "cell_type": "markdown",
   "id": "78f878a1",
   "metadata": {},
   "source": [
    "## WholeSlideImageBackend\n",
    "\n",
    "----"
   ]
  },
  {
   "cell_type": "code",
   "execution_count": 9,
   "id": "c3f4288b",
   "metadata": {},
   "outputs": [
    {
     "name": "stdout",
     "output_type": "stream",
     "text": [
      "Currently available backends:  ('asap', 'openslide', 'pyvips')\n"
     ]
    }
   ],
   "source": [
    "print('Currently available backends: ', WholeSlideImageBackend.names())"
   ]
  },
  {
   "cell_type": "markdown",
   "id": "f4b6dcf9",
   "metadata": {},
   "source": [
    "## WholeSlideImage\n",
    "\n",
    "----"
   ]
  },
  {
   "cell_type": "markdown",
   "id": "b9ad8d95",
   "metadata": {},
   "source": [
    "The image backend can be specified vai the 'backend' argument when instantiating WholeSlideImage"
   ]
  },
  {
   "cell_type": "code",
   "execution_count": 37,
   "id": "d51e1503",
   "metadata": {},
   "outputs": [
    {
     "name": "stdout",
     "output_type": "stream",
     "text": [
      "- default backend:  OpenSlideWholeSlideImageBackend('/tmp/TCGA-21-5784-01Z-00-DX1.tif')\n",
      "- asap backend:  <wholeslidedata.accessories.asap.backend.AsapWholeSlideImageBackend; proxy of <Swig Object of type 'MultiResolutionImage *' at 0x7ffa6ccf9540> >\n",
      "- openslide backend:  OpenSlideWholeSlideImageBackend('/tmp/TCGA-21-5784-01Z-00-DX1.tif')\n",
      "- pyvips backend:  <wholeslidedata.accessories.pyvips.backend.PyVipsImageBackend object at 0x7ffa98b3a340>\n"
     ]
    }
   ],
   "source": [
    "wsi = WholeSlideImage('/tmp/TCGA-21-5784-01Z-00-DX1.tif')\n",
    "print('- default backend: ', wsi._backend)\n",
    "wsi = WholeSlideImage('/tmp/TCGA-21-5784-01Z-00-DX1.tif', backend='asap')\n",
    "print('- asap backend: ', wsi._backend)\n",
    "wsi = WholeSlideImage('/tmp/TCGA-21-5784-01Z-00-DX1.tif', backend='openslide')\n",
    "print('- openslide backend: ', wsi._backend)\n",
    "wsi = WholeSlideImage('/tmp/TCGA-21-5784-01Z-00-DX1.tif', backend='pyvips')\n",
    "print('- pyvips backend: ', wsi._backend)"
   ]
  },
  {
   "cell_type": "markdown",
   "id": "48983d50",
   "metadata": {},
   "source": [
    "## Specifying Backend in user config\n",
    "\n",
    "----\n",
    "\n",
    "There are multiple ways to specify the image backend in the user config. The most straightforward is globally. In rare situations, you can also specify the image backend for each image separately\n",
    "\n",
    ":::{note}\n",
    "If the image backend is not specified in the config file, all images will be opened via the default image backend\n",
    ":::\n",
    "\n",
    "\n",
    "### global"
   ]
  },
  {
   "cell_type": "code",
   "execution_count": 33,
   "id": "47ade554",
   "metadata": {},
   "outputs": [
    {
     "name": "stdout",
     "output_type": "stream",
     "text": [
      "wholeslidedata:\n",
      "  default:\n",
      "    image_backend: asap\n",
      "    yaml_source:\n",
      "      training:\n",
      "      - wsi:\n",
      "          path: /tmp/TCGA-21-5784-01Z-00-DX1.tif\n",
      "        wsa:\n",
      "          path: /tmp/TCGA-21-5784-01Z-00-DX1.xml\n",
      "      validation:\n",
      "      - wsi:\n",
      "          path: /tmp/TCGA-21-5784-01Z-00-DX1.tif\n",
      "        wsa:\n",
      "          path: /tmp/TCGA-21-5784-01Z-00-DX1.xml\n",
      "    label_map:\n",
      "      stroma: 1\n",
      "      tumor: 2\n",
      "      lymphocytes: 3\n",
      "    batch_shape:\n",
      "      batch_size: 4\n",
      "      spacing: 1.0\n",
      "      shape: [512, 512, 3]\n",
      "\n"
     ]
    }
   ],
   "source": [
    "user_config_global = './configs/user_config_backends-global.yml'\n",
    "print(formatted_yaml(user_config_global))"
   ]
  },
  {
   "cell_type": "code",
   "execution_count": 34,
   "id": "94f6aefe",
   "metadata": {},
   "outputs": [
    {
     "name": "stdout",
     "output_type": "stream",
     "text": [
      "<wholeslidedata.accessories.asap.backend.AsapWholeSlideImageBackend; proxy of <Swig Object of type 'MultiResolutionImage *' at 0x7ffa97eec930> >\n",
      "<wholeslidedata.accessories.asap.backend.AsapWholeSlideImageBackend; proxy of <Swig Object of type 'MultiResolutionImage *' at 0x7ffa67d9dbd0> >\n"
     ]
    }
   ],
   "source": [
    "training_iterator = create_batch_iterator(mode='training', user_config=user_config_global)\n",
    "validation_iterator = create_batch_iterator(mode='validation', user_config=user_config_global)\n",
    "print(training_iterator.dataset['TCGA-21-5784-01Z-00-DX1']['images'][0]._backend)\n",
    "print(validation_iterator.dataset['TCGA-21-5784-01Z-00-DX1']['images'][0]._backend)\n",
    "training_iterator.stop()\n",
    "validation_iterator.stop()"
   ]
  },
  {
   "cell_type": "markdown",
   "id": "300a761c",
   "metadata": {},
   "source": [
    "\n",
    "\n",
    "### per image\n"
   ]
  },
  {
   "cell_type": "code",
   "execution_count": 35,
   "id": "74d75faf",
   "metadata": {},
   "outputs": [
    {
     "name": "stdout",
     "output_type": "stream",
     "text": [
      "wholeslidedata:\n",
      "  default:\n",
      "    yaml_source:\n",
      "      training:\n",
      "      - wsi:\n",
      "          path: /tmp/TCGA-21-5784-01Z-00-DX1.tif\n",
      "          image_backend: openslide\n",
      "        wsa:\n",
      "          path: /tmp/TCGA-21-5784-01Z-00-DX1.xml\n",
      "      validation:\n",
      "      - wsi:\n",
      "          path: /tmp/TCGA-21-5784-01Z-00-DX1.tif\n",
      "          image_backend: asap\n",
      "        wsa:\n",
      "          path: /tmp/TCGA-21-5784-01Z-00-DX1.xml\n",
      "    label_map:\n",
      "      stroma: 1\n",
      "      tumor: 2\n",
      "      lymphocytes: 3\n",
      "    batch_shape:\n",
      "      batch_size: 4\n",
      "      spacing: 1.0\n",
      "      shape: [512, 512, 3]\n",
      "\n"
     ]
    }
   ],
   "source": [
    "user_config_per_image = './configs/user_config_backends-per-image.yml'\n",
    "print(formatted_yaml(user_config_per_image))"
   ]
  },
  {
   "cell_type": "code",
   "execution_count": 36,
   "id": "5e45fd2c",
   "metadata": {},
   "outputs": [
    {
     "name": "stdout",
     "output_type": "stream",
     "text": [
      "OpenSlideWholeSlideImageBackend('/tmp/TCGA-21-5784-01Z-00-DX1.tif')\n",
      "<wholeslidedata.accessories.asap.backend.AsapWholeSlideImageBackend; proxy of <Swig Object of type 'MultiResolutionImage *' at 0x7ffa97eebbd0> >\n"
     ]
    }
   ],
   "source": [
    "training_iterator = create_batch_iterator(mode='training', user_config=user_config_per_image)\n",
    "validation_iterator = create_batch_iterator(mode='validation', user_config=user_config_per_image)\n",
    "print(training_iterator.dataset['TCGA-21-5784-01Z-00-DX1']['images'][0]._backend)\n",
    "print(validation_iterator.dataset['TCGA-21-5784-01Z-00-DX1']['images'][0]._backend)\n",
    "training_iterator.stop()\n",
    "validation_iterator.stop()"
   ]
  }
 ],
 "metadata": {
  "kernelspec": {
   "display_name": "Python 3",
   "language": "python",
   "name": "python3"
  },
  "language_info": {
   "codemirror_mode": {
    "name": "ipython",
    "version": 3
   },
   "file_extension": ".py",
   "mimetype": "text/x-python",
   "name": "python",
   "nbconvert_exporter": "python",
   "pygments_lexer": "ipython3",
   "version": "3.8.5"
  }
 },
 "nbformat": 4,
 "nbformat_minor": 5
}
