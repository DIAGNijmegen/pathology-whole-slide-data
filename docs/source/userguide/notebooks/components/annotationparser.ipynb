{
 "cells": [
  {
   "cell_type": "markdown",
   "id": "1a706bb7",
   "metadata": {},
   "source": [
    "# AnnotationParser"
   ]
  },
  {
   "cell_type": "code",
   "execution_count": 9,
   "id": "57c7e183",
   "metadata": {},
   "outputs": [],
   "source": [
    "from wholeslidedata.annotation.parser import WholeSlideAnnotationParser, SCHEMA\n",
    "from pprint import pprint"
   ]
  },
  {
   "cell_type": "code",
   "execution_count": 11,
   "id": "7d9cd22a",
   "metadata": {},
   "outputs": [
    {
     "name": "stdout",
     "output_type": "stream",
     "text": [
      "{'type': 'object',\n",
      " 'required': ['type', 'label', 'coordinates'],\n",
      " 'additionalProperties': False,\n",
      " 'properties': {'type': {'enum': ['polygon', 'point']},\n",
      "                'coordinates': {'type': 'array',\n",
      "                                'items': {'type': 'array',\n",
      "                                          'contains': {'type': 'number'},\n",
      "                                          'minContains': 2,\n",
      "                                          'maxContains': 2}},\n",
      "                'label': {'type': 'object',\n",
      "                          'required': ['name', 'value'],\n",
      "                          'properties': {'name': {'type': 'string'},\n",
      "                                         'value': {'type': 'integer',\n",
      "                                                   'minimum': 0},\n",
      "                                         'color': {'type': 'string'},\n",
      "                                         'weight': {'type': 'number'},\n",
      "                                         'confidence': {'type': 'number'},\n",
      "                                         'overlay_index': {'type': 'integer'}}},\n",
      "                'index': {'type': 'integer', 'minimum': 0}}}\n"
     ]
    }
   ],
   "source": [
    "pprint(SCHEMA, sort_dicts=False)"
   ]
  },
  {
   "cell_type": "code",
   "execution_count": 14,
   "id": "90a042b7",
   "metadata": {},
   "outputs": [],
   "source": [
    "\n",
    "\n",
    "# WholeSlideAnnotationParser(labels, )\n",
    "\n",
    "# sample_label_names: Union[list, tuple] = (),\n",
    "# sample_annotation_types: Union[list, tuple] = ('polygon',),\n",
    "# hooks=(), (scaling, tiled, renamed labels)"
   ]
  },
  {
   "cell_type": "markdown",
   "id": "1b46f066",
   "metadata": {},
   "source": [
    ":::{seealso}\n",
    "\n",
    "For specifc annotation parsers (accessories)\n",
    "\n",
    " - AsapAnnotationParser (xml)\n",
    " - QupathAnnotationParser (json\n",
    " - HistomicsSTKAnnottionParser (json)\n",
    " - VirtumAnnotationParser (xml)\n",
    ":::"
   ]
  },
  {
   "cell_type": "code",
   "execution_count": null,
   "id": "6db49025",
   "metadata": {},
   "outputs": [],
   "source": []
  }
 ],
 "metadata": {
  "kernelspec": {
   "display_name": "Python 3",
   "language": "python",
   "name": "python3"
  },
  "language_info": {
   "codemirror_mode": {
    "name": "ipython",
    "version": 3
   },
   "file_extension": ".py",
   "mimetype": "text/x-python",
   "name": "python",
   "nbconvert_exporter": "python",
   "pygments_lexer": "ipython3",
   "version": "3.8.5"
  }
 },
 "nbformat": 4,
 "nbformat_minor": 5
}
