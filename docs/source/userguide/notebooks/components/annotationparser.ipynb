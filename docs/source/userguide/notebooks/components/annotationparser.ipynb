{
 "cells": [
  {
   "cell_type": "markdown",
   "id": "1a706bb7",
   "metadata": {},
   "source": [
    "# AnnotationParser\n",
    "\n",
    "An annotation parser can parse annotations that are made on top of a whole-slide image. Different software can be used to make these annotations and whole-slide data support, out-of-the-box, various annotation formats from different annotation software."
   ]
  },
  {
   "cell_type": "markdown",
   "id": "1b46f066",
   "metadata": {},
   "source": [
    ":::{seealso}\n",
    "\n",
    "For specifc annotation parsers (accessories)\n",
    "\n",
    " - AsapAnnotationParser (xml)\n",
    " - QupathAnnotationParser (json\n",
    " - HistomicsSTKAnnottionParser (json)\n",
    " - VirtumAnnotationParser (xml)\n",
    " - MaskAnnotationParser (tif) [only for binary masks]\n",
    ":::"
   ]
  }
 ],
 "metadata": {
  "kernelspec": {
   "display_name": "Python 3 (ipykernel)",
   "language": "python",
   "name": "python3"
  },
  "language_info": {
   "codemirror_mode": {
    "name": "ipython",
    "version": 3
   },
   "file_extension": ".py",
   "mimetype": "text/x-python",
   "name": "python",
   "nbconvert_exporter": "python",
   "pygments_lexer": "ipython3",
   "version": "3.9.15"
  }
 },
 "nbformat": 4,
 "nbformat_minor": 5
}
