{
 "cells": [
  {
   "cell_type": "markdown",
   "id": "0527f874",
   "metadata": {},
   "source": [
    "# Modes\n",
    "\n",
    "----\n"
   ]
  },
  {
   "cell_type": "code",
   "execution_count": 2,
   "id": "f656af17",
   "metadata": {},
   "outputs": [],
   "source": [
    "from wholeslidedata.mode import WholeSlideMode\n",
    "from wholeslidedata.configuration.utils import formatted_yaml\n",
    "from wholeslidedata.iterators import create_batch_iterator"
   ]
  },
  {
   "cell_type": "markdown",
   "id": "d666e1bf",
   "metadata": {},
   "source": [
    "## Built-in Modes\n",
    "\n",
    "----"
   ]
  },
  {
   "cell_type": "code",
   "execution_count": 3,
   "id": "f139ae7f",
   "metadata": {},
   "outputs": [
    {
     "name": "stdout",
     "output_type": "stream",
     "text": [
      "('default', 'training', 'validation', 'test', 'inference')\n"
     ]
    }
   ],
   "source": [
    "# print all built-in modes\n",
    "print(WholeSlideMode.names())"
   ]
  },
  {
   "cell_type": "markdown",
   "id": "5a64bcda",
   "metadata": {},
   "source": [
    "## Mode specific settings in user config\n",
    "\n",
    "----\n",
    "\n",
    "Modes allow for specific settings. For example for training mode and validation mode you can set different batch sizes in the config file"
   ]
  },
  {
   "cell_type": "code",
   "execution_count": 4,
   "id": "7996ba07",
   "metadata": {},
   "outputs": [
    {
     "name": "stdout",
     "output_type": "stream",
     "text": [
      "wholeslidedata:\n",
      "  default:\n",
      "    yaml_source:\n",
      "      training:\n",
      "      - wsi:\n",
      "          path: /tmp/TCGA-21-5784-01Z-00-DX1.tif\n",
      "        wsa:\n",
      "          path: /tmp/TCGA-21-5784-01Z-00-DX1.xml\n",
      "      validation:\n",
      "      - wsi:\n",
      "          path: /tmp/TCGA-21-5784-01Z-00-DX1.tif\n",
      "        wsa:\n",
      "          path: /tmp/TCGA-21-5784-01Z-00-DX1.xml\n",
      "    label_map:\n",
      "      stroma: 1\n",
      "      tumor: 2\n",
      "      lymphocytes: 3\n",
      "    batch_shape:\n",
      "      batch_size: 4\n",
      "      spacing: 1.0\n",
      "      shape: [512, 512, 3]\n",
      "  validation:\n",
      "    batch_shape:\n",
      "      batch_size: 8\n",
      "\n"
     ]
    }
   ],
   "source": [
    "user_config = './configs/user_config_modes.yml'\n",
    "print(formatted_yaml(user_config))"
   ]
  },
  {
   "cell_type": "code",
   "execution_count": 5,
   "id": "2ad55e0f",
   "metadata": {},
   "outputs": [
    {
     "name": "stdout",
     "output_type": "stream",
     "text": [
      "Batch size training:  4\n",
      "Batch size validation:  8\n"
     ]
    }
   ],
   "source": [
    "training_iterator = create_batch_iterator(mode='training', user_config=user_config)\n",
    "validation_iterator = create_batch_iterator(mode='validation', user_config=user_config)\n",
    "print('Batch size training: ', training_iterator.batch_size)\n",
    "print('Batch size validation: ', validation_iterator.batch_size)\n",
    "training_iterator.stop()\n",
    "validation_iterator.stop()"
   ]
  }
 ],
 "metadata": {
  "kernelspec": {
   "display_name": "Python 3",
   "language": "python",
   "name": "python3"
  },
  "language_info": {
   "codemirror_mode": {
    "name": "ipython",
    "version": 3
   },
   "file_extension": ".py",
   "mimetype": "text/x-python",
   "name": "python",
   "nbconvert_exporter": "python",
   "pygments_lexer": "ipython3",
   "version": "3.8.5"
  }
 },
 "nbformat": 4,
 "nbformat_minor": 5
}
