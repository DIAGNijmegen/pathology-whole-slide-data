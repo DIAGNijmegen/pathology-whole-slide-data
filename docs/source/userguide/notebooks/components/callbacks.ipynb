{
 "cells": [
  {
   "cell_type": "markdown",
   "id": "1ff79eed",
   "metadata": {},
   "source": [
    "# Callbacks\n",
    "\n",
    "\n",
    "## Coming soon...."
   ]
  },
  {
   "cell_type": "code",
   "execution_count": null,
   "id": "0351d1b1-5a55-4e84-962c-60b3921bca0b",
   "metadata": {},
   "outputs": [],
   "source": []
  }
 ],
 "metadata": {
  "kernelspec": {
   "display_name": "Python 3 (ipykernel)",
   "language": "python",
   "name": "python3"
  },
  "language_info": {
   "codemirror_mode": {
    "name": "ipython",
    "version": 3
   },
   "file_extension": ".py",
   "mimetype": "text/x-python",
   "name": "python",
   "nbconvert_exporter": "python",
   "pygments_lexer": "ipython3",
   "version": "3.9.15"
  }
 },
 "nbformat": 4,
 "nbformat_minor": 5
}
