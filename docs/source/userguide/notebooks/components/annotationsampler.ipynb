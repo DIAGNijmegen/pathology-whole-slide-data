{
 "cells": [
  {
   "cell_type": "markdown",
   "id": "067c5a48",
   "metadata": {},
   "source": [
    "# AnnotationSampler"
   ]
  },
  {
   "cell_type": "code",
   "execution_count": 1,
   "id": "8cae2b95-0cc4-4863-ad1e-122165bdfd97",
   "metadata": {},
   "outputs": [],
   "source": [
    "from wholeslidedata.samplers.annotationsampler import OrderedAnnotationSampler, BalancedAnnotationSampler, AreaAnnotationSampler\n",
    "from wholeslidedata import WholeSlideAnnotation\n",
    "from wholeslidedata.visualization.plotting import plot_annotations\n",
    "from matplotlib import pyplot as plt\n",
    "from sourcelib.collect import get_files_from_folder\n",
    "from sourcelib.associations import associate_files\n",
    "from wholeslidedata.data.files import WholeSlideImageFile, WholeSlideAnnotationFile\n",
    "from wholeslidedata.data.mode import WholeSlideMode\n",
    "from wholeslidedata.interoperability.asap.backend import AsapWholeSlideImageBackend\n",
    "from wholeslidedata.interoperability.asap.parser import AsapAnnotationParser\n",
    "from wholeslidedata.data.dataset import WholeSlideDataSet\n",
    "import numpy as np"
   ]
  },
  {
   "cell_type": "code",
   "execution_count": 2,
   "id": "53dbf420-5aea-4df7-9c33-c899e8475305",
   "metadata": {},
   "outputs": [],
   "source": [
    "image_files = get_files_from_folder(file_cls=WholeSlideImageFile, folder='/tmp/', mode=WholeSlideMode.default, excludes=['mask'], image_backend=AsapWholeSlideImageBackend)\n",
    "annotation_files =get_files_from_folder(file_cls=WholeSlideAnnotationFile, folder='/tmp/', mode=WholeSlideMode.default, filters=['xml'], annotation_parser=AsapAnnotationParser)\n",
    "associations = associate_files(image_files, annotation_files)\n",
    "dataset = WholeSlideDataSet(mode=WholeSlideMode.training, associations=associations)"
   ]
  },
  {
   "cell_type": "markdown",
   "id": "985391e4-dc13-409c-b740-351f5d6529c1",
   "metadata": {},
   "source": [
    "## OrderedAnnotationSampler"
   ]
  },
  {
   "cell_type": "code",
   "execution_count": 8,
   "id": "e1c3a748-50ec-4f36-8e47-d425f216fb44",
   "metadata": {},
   "outputs": [],
   "source": [
    "annotation_sampler = OrderedAnnotationSampler(counts_per_label=dataset.counts_per_label, seed=123)"
   ]
  },
  {
   "cell_type": "markdown",
   "id": "48affaa6-6f1b-4c79-952a-35c1a1e7c95b",
   "metadata": {},
   "source": [
    "## BalancedAnnotationSampler"
   ]
  },
  {
   "cell_type": "code",
   "execution_count": 7,
   "id": "ae69fe85-4123-4dc4-aafe-19b7536e4098",
   "metadata": {},
   "outputs": [],
   "source": [
    "annotation_sampler = BalancedAnnotationSampler(counts_per_label=dataset.counts_per_label, seed=123)"
   ]
  },
  {
   "cell_type": "markdown",
   "id": "292721a1-b3b1-44b4-a7f0-ddf6b2c92ab8",
   "metadata": {},
   "source": [
    "## AreaAnnotationSampler"
   ]
  },
  {
   "cell_type": "code",
   "execution_count": 6,
   "id": "c36f374d-0346-433d-bf90-f1f3ce08f037",
   "metadata": {},
   "outputs": [],
   "source": [
    "annotation_sampler = AreaAnnotationSampler(counts_per_label=dataset.counts_per_label, dataset=dataset, seed=123)"
   ]
  },
  {
   "cell_type": "code",
   "execution_count": null,
   "id": "5a38884b-044d-4678-833d-1206b46bb609",
   "metadata": {},
   "outputs": [],
   "source": []
  }
 ],
 "metadata": {
  "kernelspec": {
   "display_name": "Python 3 (ipykernel)",
   "language": "python",
   "name": "python3"
  },
  "language_info": {
   "codemirror_mode": {
    "name": "ipython",
    "version": 3
   },
   "file_extension": ".py",
   "mimetype": "text/x-python",
   "name": "python",
   "nbconvert_exporter": "python",
   "pygments_lexer": "ipython3",
   "version": "3.9.15"
  }
 },
 "nbformat": 4,
 "nbformat_minor": 5
}
