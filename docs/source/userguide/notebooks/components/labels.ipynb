{
 "cells": [
  {
   "cell_type": "markdown",
   "id": "eb764010",
   "metadata": {},
   "source": [
    "# Labels"
   ]
  },
  {
   "cell_type": "code",
   "execution_count": 1,
   "id": "90aabf72",
   "metadata": {},
   "outputs": [],
   "source": [
    "from wholeslidedata.annotation.labels import Labels"
   ]
  },
  {
   "cell_type": "markdown",
   "id": "3a01bcfd",
   "metadata": {},
   "source": [
    "## Labels from list \n",
    "\n",
    "implicit value assignment"
   ]
  },
  {
   "cell_type": "code",
   "execution_count": 2,
   "id": "6b091038",
   "metadata": {},
   "outputs": [],
   "source": [
    "labels = Labels.create(['class_a', 'class_b'])"
   ]
  },
  {
   "cell_type": "code",
   "execution_count": 3,
   "id": "fe56a271",
   "metadata": {},
   "outputs": [
    {
     "name": "stdout",
     "output_type": "stream",
     "text": [
      "{'class_a': 1, 'class_b': 2}\n",
      "['class_a', 'class_b']\n",
      "[1, 2]\n",
      "class_a 1\n",
      "class_b 2\n"
     ]
    }
   ],
   "source": [
    "print(labels.map)\n",
    "print(labels.names)\n",
    "print(labels.values)\n",
    "for label in labels:\n",
    "    print(label.name, label.value)"
   ]
  },
  {
   "cell_type": "code",
   "execution_count": 4,
   "id": "136c4b5b",
   "metadata": {},
   "outputs": [
    {
     "name": "stdout",
     "output_type": "stream",
     "text": [
      "['class_a'] [1, 2] {'class_a': 2}\n"
     ]
    }
   ],
   "source": [
    "labels = Labels.create(['class_a', 'class_a'])\n",
    "print(labels.names, labels.values, labels.map)"
   ]
  },
  {
   "cell_type": "markdown",
   "id": "b90344fa",
   "metadata": {},
   "source": [
    "## Labels from dict\n",
    "\n",
    "explicit value assignment"
   ]
  },
  {
   "cell_type": "code",
   "execution_count": 5,
   "id": "0904e804",
   "metadata": {},
   "outputs": [
    {
     "name": "stdout",
     "output_type": "stream",
     "text": [
      "{'class_a': 2, 'class_b': 1}\n"
     ]
    }
   ],
   "source": [
    "labels = Labels.create({'class_a': 2, 'class_b': 1})\n",
    "print(labels.map)"
   ]
  },
  {
   "cell_type": "markdown",
   "id": "0faae057",
   "metadata": {},
   "source": [
    "## Specific label creation with additional properties, e.g. color"
   ]
  },
  {
   "cell_type": "code",
   "execution_count": 8,
   "id": "a82a5770",
   "metadata": {},
   "outputs": [
    {
     "name": "stdout",
     "output_type": "stream",
     "text": [
      "Label(name=class_a, value=2) class_a 2 blue\n",
      "Label(name=class_b, value=1) class_b 1 green\n"
     ]
    }
   ],
   "source": [
    "labels = Labels.create([{'name': 'class_a', 'value': 2, 'color': 'blue'},\n",
    "                         {'name': 'class_b', 'value': 1, 'color': 'green'}])\n",
    "for label in labels:\n",
    "    print(label, label.name, label.value, label.color)"
   ]
  }
 ],
 "metadata": {
  "kernelspec": {
   "display_name": "Python 3 (ipykernel)",
   "language": "python",
   "name": "python3"
  },
  "language_info": {
   "codemirror_mode": {
    "name": "ipython",
    "version": 3
   },
   "file_extension": ".py",
   "mimetype": "text/x-python",
   "name": "python",
   "nbconvert_exporter": "python",
   "pygments_lexer": "ipython3",
   "version": "3.9.15"
  }
 },
 "nbformat": 4,
 "nbformat_minor": 5
}
