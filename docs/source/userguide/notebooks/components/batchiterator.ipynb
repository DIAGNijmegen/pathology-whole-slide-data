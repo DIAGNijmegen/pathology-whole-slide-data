{
 "cells": [
  {
   "cell_type": "markdown",
   "id": "275b29fc",
   "metadata": {},
   "source": [
    "# BatchIterator"
   ]
  },
  {
   "cell_type": "code",
   "execution_count": 7,
   "id": "bbaaee77",
   "metadata": {},
   "outputs": [],
   "source": [
    "from wholeslidedata.iterators import create_batch_iterator\n",
    "from wholeslidedata.visualization.plotting import plot_batch"
   ]
  },
  {
   "cell_type": "markdown",
   "id": "3344224c",
   "metadata": {},
   "source": [
    "## User config and Mode"
   ]
  },
  {
   "cell_type": "code",
   "execution_count": 8,
   "id": "7497514d",
   "metadata": {},
   "outputs": [],
   "source": [
    "user_config = './configs/user_config.yml'\n",
    "mode = 'training'"
   ]
  },
  {
   "cell_type": "markdown",
   "id": "76f78750",
   "metadata": {},
   "source": [
    ":::{seealso}\n",
    " - For more information about the **mode**, please see the user guide about [modes](./modes)\n",
    " - For an explanation about the **user_config** please see the [batchiterator configuration](/userguide/index.html#batchiterator-configuration)\n",
    ":::"
   ]
  },
  {
   "cell_type": "markdown",
   "id": "f0f9acfa",
   "metadata": {},
   "source": [
    "## Creating a Batch Iterator"
   ]
  },
  {
   "cell_type": "code",
   "execution_count": null,
   "id": "96ac9207",
   "metadata": {},
   "outputs": [],
   "source": [
    "with create_batch_iterator(user_config=user_config, \n",
    "                            mode=mode) as training_batch_generator:\n",
    "    \n",
    "    x_batch, y_batch, info =  next(training_batch_generator)\n",
    "    plot_batch(x_batch, y_batch)"
   ]
  },
  {
   "cell_type": "markdown",
   "id": "81b4763b",
   "metadata": {},
   "source": [
    ":::{seealso}\n",
    "For more advanced initialization settings of the batch iterator please see the [initialize batch iterator](./initializebatchiterator) user guide\n",
    ":::"
   ]
  },
  {
   "cell_type": "code",
   "execution_count": null,
   "id": "de11858f-88c4-4d1b-8b54-005dbdfdb2cd",
   "metadata": {},
   "outputs": [],
   "source": []
  }
 ],
 "metadata": {
  "kernelspec": {
   "display_name": "Python 3",
   "language": "python",
   "name": "python3"
  },
  "language_info": {
   "codemirror_mode": {
    "name": "ipython",
    "version": 3
   },
   "file_extension": ".py",
   "mimetype": "text/x-python",
   "name": "python",
   "nbconvert_exporter": "python",
   "pygments_lexer": "ipython3",
   "version": "3.8.10"
  }
 },
 "nbformat": 4,
 "nbformat_minor": 5
}
