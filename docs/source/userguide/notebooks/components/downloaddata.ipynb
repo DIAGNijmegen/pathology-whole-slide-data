{
 "cells": [
  {
   "cell_type": "markdown",
   "metadata": {},
   "source": [
    "# Download Example Data\n",
    "\n",
    "----\n"
   ]
  },
  {
   "cell_type": "code",
   "execution_count": 1,
   "metadata": {},
   "outputs": [],
   "source": [
    "# !pip install gdown\n",
    "import gdown\n",
    "import sys\n",
    "from pathlib import Path\n",
    "\n",
    "from downloaddata import WSA_DOWNLOAD_LINK, WSA_NAME, WSI_DOWNLOAD_LINK, WSI_NAME, WSM_DOWNLOAD_LINK, WSM_NAME\n",
    "\n",
    "def _download(output_folder, download_link, name):\n",
    "    output_path = Path(output_folder) / name\n",
    "    if not output_path.exists():\n",
    "        gdown.download(download_link, str(output_path))\n",
    "    \n",
    "def download_example_data(output_folder=Path(\"/tmp/\")):\n",
    "    _download(output_folder, WSI_DOWNLOAD_LINK, WSI_NAME)\n",
    "    _download(output_folder, WSA_DOWNLOAD_LINK, WSA_NAME)\n",
    "    _download(output_folder, WSM_DOWNLOAD_LINK, WSM_NAME)"
   ]
  },
  {
   "cell_type": "markdown",
   "metadata": {},
   "source": [
    "## Download Segmentation Data"
   ]
  },
  {
   "cell_type": "code",
   "execution_count": 8,
   "metadata": {},
   "outputs": [],
   "source": [
    "WSI_DOWNLOAD_LINK = \"https://drive.google.com/uc?id=1a-77TNRlSoPbRlNI0VtlHG3d7xTSpcwB\"\n",
    "WSI_NAME = Path(\"TCGA-21-5784-01Z-00-DX1.tif\")\n",
    "\n",
    "WSA_DOWNLOAD_LINK = \"https://drive.google.com/uc?id=1jkTp0IJHHpmLd1yDO1L3KRFJgm0STh0d\"\n",
    "WSA_NAME = Path(\"TCGA-21-5784-01Z-00-DX1.xml\")\n",
    "\n",
    "WSM_DOWNLOAD_LINK = \"https://drive.google.com/uc?id=1nLdKzSLq79mon1RCevgEmG59E8Oq9JhZ\"\n",
    "WSM_NAME = Path(\"TCGA-21-5784-01Z-00-DX1_tb_mask.tif\")\n",
    "\n",
    "def download_segmentation_data(output_folder=Path(\"/tmp/\")):\n",
    "    _download(output_folder, WSI_DOWNLOAD_LINK, WSI_NAME)\n",
    "    _download(output_folder, WSA_DOWNLOAD_LINK, WSA_NAME)\n",
    "    _download(output_folder, WSM_DOWNLOAD_LINK, WSM_NAME)\n",
    "    \n",
    "download_segmentation_data()\n"
   ]
  }
 ],
 "metadata": {
  "kernelspec": {
   "display_name": "wholeslidedata",
   "language": "python",
   "name": "wholeslidedata"
  },
  "language_info": {
   "codemirror_mode": {
    "name": "ipython",
    "version": 3
   },
   "file_extension": ".py",
   "mimetype": "text/x-python",
   "name": "python",
   "nbconvert_exporter": "python",
   "pygments_lexer": "ipython3",
   "version": "3.8.17"
  }
 },
 "nbformat": 4,
 "nbformat_minor": 4
}
