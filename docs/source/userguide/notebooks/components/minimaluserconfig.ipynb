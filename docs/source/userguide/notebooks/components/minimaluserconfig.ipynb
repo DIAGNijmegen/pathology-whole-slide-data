{
 "cells": [
  {
   "cell_type": "markdown",
   "id": "8bb9f45c",
   "metadata": {},
   "source": [
    "# Minimal user config\n",
    "\n",
    "----"
   ]
  },
  {
   "cell_type": "code",
   "execution_count": 1,
   "id": "36163441",
   "metadata": {},
   "outputs": [],
   "source": [
    "from wholeslidedata.configuration.utils import formatted_yaml"
   ]
  },
  {
   "cell_type": "markdown",
   "id": "dd98fd54",
   "metadata": {},
   "source": [
    "The configuration of the batch iterator requires multiple settings. All default settings can be found in the [main config file]() and the [sub config files](), On top of these settings, a **user_config** can add and override settings in the configuration. \n",
    "\n",
    "This section describes a minimal example of a user_config.\n"
   ]
  },
  {
   "cell_type": "markdown",
   "id": "1ded7eef",
   "metadata": {},
   "source": [
    ":::{note}\n",
    "The following user config is used in the [batch iterator](./batchiterator) user guide\n",
    ":::"
   ]
  },
  {
   "cell_type": "code",
   "execution_count": 2,
   "id": "5e6c2591",
   "metadata": {},
   "outputs": [
    {
     "name": "stdout",
     "output_type": "stream",
     "text": [
      "wholeslidedata:\n",
      "  default:\n",
      "    yaml_source:\n",
      "      training:\n",
      "      - wsi:\n",
      "          path: /tmp/TCGA-21-5784-01Z-00-DX1.tif\n",
      "        wsa:\n",
      "          path: /tmp/TCGA-21-5784-01Z-00-DX1.xml\n",
      "    label_map:\n",
      "      stroma: 1\n",
      "      tumor: 2\n",
      "      lymphocytes: 3\n",
      "    batch_shape:\n",
      "      batch_size: 4\n",
      "      spacing: 1.0\n",
      "      shape: [512, 512, 3]\n",
      "\n"
     ]
    }
   ],
   "source": [
    "user_config = './configs/user_config.yml'\n",
    "print(formatted_yaml(user_config))"
   ]
  },
  {
   "cell_type": "markdown",
   "id": "8acc343d",
   "metadata": {},
   "source": [
    "## Minimal settings\n",
    "\n",
    "----\n",
    "\n",
    "The first key is in the yaml should always be **wholeslidedata**  followed by a mode key which is **default** in this case. Other and multiple modes can be specified. Please see [modes](./modes) user guide for more information. Below a short explanation will be given for each setting in this minimal config file\n",
    "\n",
    " - [yaml source](#yaml-source)\n",
    " - [label map](#label-map)\n",
    " - [batch shape](#batch-shape)"
   ]
  },
  {
   "cell_type": "markdown",
   "id": "71a5efb9",
   "metadata": {},
   "source": [
    "(My_target)=\n",
    "### yaml source\n",
    "\n",
    "----\n",
    "\n",
    "The yaml_source defines the data via a mapping. For every non-default mode (e.g., training, validation, etc.), paths to whole-slide images and annotations can be defined. In this example we only use **training**.\n",
    "\n",
    "Under the mode key in the yaml_source configuration, a list of mappings defines the data. In particular, the mappings in the list should contain a **wsi** and **wsa** key that specifies the path to the whole slide image and annotation file. These paths are specified via the **path** key."
   ]
  },
  {
   "cell_type": "code",
   "execution_count": 4,
   "id": "e7900a59",
   "metadata": {},
   "outputs": [
    {
     "name": "stdout",
     "output_type": "stream",
     "text": [
      "training:\n",
      "- wsi:\n",
      "    path: /tmp/TCGA-21-5784-01Z-00-DX1.tif\n",
      "  wsa:\n",
      "    path: /tmp/TCGA-21-5784-01Z-00-DX1.xml\n",
      "\n"
     ]
    }
   ],
   "source": [
    "print(yaml_dump(user_config['wholeslidedata']['default']['yaml_source']))"
   ]
  },
  {
   "cell_type": "markdown",
   "id": "8d1dd7d3",
   "metadata": {},
   "source": [
    "### label map\n",
    "\n",
    "----\n",
    "\n",
    "The label_map represents the label names present in the annotation files and sets a value to that label. "
   ]
  },
  {
   "cell_type": "code",
   "execution_count": 5,
   "id": "dc3802a3",
   "metadata": {},
   "outputs": [
    {
     "name": "stdout",
     "output_type": "stream",
     "text": [
      "stroma: 1\n",
      "tumor: 2\n",
      "lymphocytes: 3\n",
      "\n"
     ]
    }
   ],
   "source": [
    "print(yaml_dump(user_config['wholeslidedata']['default']['label_map']))"
   ]
  },
  {
   "cell_type": "markdown",
   "id": "594205e9",
   "metadata": {},
   "source": [
    "### batch shape\n",
    "\n",
    "----\n"
   ]
  },
  {
   "cell_type": "markdown",
   "id": "9960744d",
   "metadata": {},
   "source": [
    "This batch_shape determineshow  to sample batches of patches with a specific shape, batch_size, and spacing."
   ]
  },
  {
   "cell_type": "code",
   "execution_count": 8,
   "id": "0f79edca",
   "metadata": {},
   "outputs": [
    {
     "name": "stdout",
     "output_type": "stream",
     "text": [
      "batch_size: 4\n",
      "spacing: 1.0\n",
      "shape: [512, 512, 3]\n",
      "\n"
     ]
    }
   ],
   "source": [
    "print(yaml_dump(user_config['wholeslidedata']['default']['batch_shape']))"
   ]
  },
  {
   "cell_type": "markdown",
   "id": "d03e32ff",
   "metadata": {},
   "source": [
    "## Advanced Settings\n",
    "\n",
    "----"
   ]
  },
  {
   "cell_type": "markdown",
   "id": "e69be9bf",
   "metadata": {},
   "source": [
    ":::{seealso}\n",
    "The documentation explains more advanced settings for datasettings, label_map, batchshape and more\n",
    ":::"
   ]
  },
  {
   "cell_type": "code",
   "execution_count": null,
   "id": "f2490511",
   "metadata": {},
   "outputs": [],
   "source": []
  }
 ],
 "metadata": {
  "kernelspec": {
   "display_name": "Python 3",
   "language": "python",
   "name": "python3"
  },
  "language_info": {
   "codemirror_mode": {
    "name": "ipython",
    "version": 3
   },
   "file_extension": ".py",
   "mimetype": "text/x-python",
   "name": "python",
   "nbconvert_exporter": "python",
   "pygments_lexer": "ipython3",
   "version": "3.8.5"
  }
 },
 "nbformat": 4,
 "nbformat_minor": 5
}
