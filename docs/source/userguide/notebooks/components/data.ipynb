{
 "cells": [
  {
   "cell_type": "markdown",
   "id": "05115176-4334-401a-83a1-c55b7041387c",
   "metadata": {},
   "source": [
    "# Data\n",
    "\n",
    "\n",
    "## Coming soon...."
   ]
  },
  {
   "cell_type": "code",
   "execution_count": null,
   "id": "1691e398-65d5-4eb8-8b0f-7bc7e19b1c05",
   "metadata": {},
   "outputs": [],
   "source": []
  }
 ],
 "metadata": {
  "kernelspec": {
   "display_name": "Python 3 (ipykernel)",
   "language": "python",
   "name": "python3"
  },
  "language_info": {
   "codemirror_mode": {
    "name": "ipython",
    "version": 3
   },
   "file_extension": ".py",
   "mimetype": "text/x-python",
   "name": "python",
   "nbconvert_exporter": "python",
   "pygments_lexer": "ipython3",
   "version": "3.9.15"
  },
  "vscode": {
   "interpreter": {
    "hash": "d2bc7110637d12c7a3b8ecab43a3a14a9f0f808e8fe735932e771da77918d468"
   }
  }
 },
 "nbformat": 4,
 "nbformat_minor": 5
}
