{
 "cells": [
  {
   "cell_type": "markdown",
   "id": "e89abfc0",
   "metadata": {},
   "source": [
    "# PatchLabelSampler"
   ]
  },
  {
   "cell_type": "markdown",
   "id": "90b991e3-9158-48d2-8e1c-78db2271cd97",
   "metadata": {},
   "source": [
    "## Classification"
   ]
  },
  {
   "cell_type": "markdown",
   "id": "dfb90408-aa34-4ad2-91b1-620007095de3",
   "metadata": {},
   "source": [
    "## Segmentation"
   ]
  },
  {
   "cell_type": "markdown",
   "id": "88d7e4df-9122-4374-8ca0-31d91baeeb0a",
   "metadata": {},
   "source": [
    "## Detection"
   ]
  }
 ],
 "metadata": {
  "kernelspec": {
   "display_name": "Python 3 (ipykernel)",
   "language": "python",
   "name": "python3"
  },
  "language_info": {
   "codemirror_mode": {
    "name": "ipython",
    "version": 3
   },
   "file_extension": ".py",
   "mimetype": "text/x-python",
   "name": "python",
   "nbconvert_exporter": "python",
   "pygments_lexer": "ipython3",
   "version": "3.9.15"
  }
 },
 "nbformat": 4,
 "nbformat_minor": 5
}
