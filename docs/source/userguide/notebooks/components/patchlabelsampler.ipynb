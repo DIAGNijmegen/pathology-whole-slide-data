{
 "cells": [
  {
   "cell_type": "markdown",
   "id": "e89abfc0",
   "metadata": {},
   "source": [
    "# PatchLabelSampler"
   ]
  },
  {
   "cell_type": "code",
   "execution_count": 80,
   "id": "5340b6ac-ef47-46af-980f-5eca47333ae5",
   "metadata": {},
   "outputs": [],
   "source": [
    "from matplotlib import pyplot as plt\n",
    "from wholeslidedata import WholeSlideAnnotation\n",
    "from wholeslidedata.visualization.plotting import plot_annotations, plot_boxes\n"
   ]
  },
  {
   "cell_type": "markdown",
   "id": "90b991e3-9158-48d2-8e1c-78db2271cd97",
   "metadata": {},
   "source": [
    "## Classification\n",
    "\n",
    ":::{seealso}\n",
    "The  <a href=\"../examples/camelyon.html\">Camelyon Example</a> in which a classification task is done.\n",
    ":::"
   ]
  },
  {
   "cell_type": "code",
   "execution_count": 141,
   "id": "9f2a56a7-caf8-4d2f-8609-c2b20bc51255",
   "metadata": {},
   "outputs": [
    {
     "name": "stdout",
     "output_type": "stream",
     "text": [
      "1 [1]\n"
     ]
    }
   ],
   "source": [
    "from wholeslidedata.samplers.patchlabelsampler import ClassificationPatchLabelSampler\n",
    "wsa = WholeSlideAnnotation('/tmp/TCGA-21-5784-01Z-00-DX1.xml')\n",
    "annotation = wsa.annotations[0]\n",
    "\n",
    "classification_patch_label_sampler = ClassificationPatchLabelSampler(123)\n",
    "classification_label = classification_patch_label_sampler.sample(wsa=wsa, point=annotation.center, size=None, ratio=1)\n",
    "print(wsa.annotations[0].label.value, classification_label)"
   ]
  },
  {
   "cell_type": "markdown",
   "id": "dfb90408-aa34-4ad2-91b1-620007095de3",
   "metadata": {},
   "source": [
    "## Segmentation\n",
    "\n",
    ":::{seealso}\n",
    "The  <a href=\"../examples/bach.html\">BACH Example</a> in which a segmentation task is done.\n",
    ":::"
   ]
  },
  {
   "cell_type": "code",
   "execution_count": 142,
   "id": "8684f338-5335-4235-a4f0-303a4478e7da",
   "metadata": {},
   "outputs": [
    {
     "data": {
      "image/png": "[encoded data removed]",
      "text/plain": [
       "<Figure size 640x480 with 2 Axes>"
      ]
     },
     "metadata": {},
     "output_type": "display_data"
    }
   ],
   "source": [
    "from wholeslidedata.samplers.patchlabelsampler import SegmentationPatchLabelSampler\n",
    "wsa = WholeSlideAnnotation('/tmp/TCGA-21-5784-01Z-00-DX1.xml')\n",
    "annotation = wsa.annotations[0]\n",
    "\n",
    "segmentation_patch_label_sampler= SegmentationPatchLabelSampler()\n",
    "segmentation_label = patch_label_sampler.sample(wsa=wsa, point=annotation.center, size=annotation.size, ratio=1)\n",
    "\n",
    "fig, axes = plt.subplots(1,2)\n",
    "plot_annotations([annotation], ax=axes[0])\n",
    "axes[0].invert_yaxis()\n",
    "axes[1].imshow(segmentation_label)\n",
    "plt.show()"
   ]
  },
  {
   "cell_type": "markdown",
   "id": "88d7e4df-9122-4374-8ca0-31d91baeeb0a",
   "metadata": {
    "tags": []
   },
   "source": [
    "## Detection\n",
    "\n",
    "\n",
    ":::{seealso}\n",
    "The  <a href=\"../examples/tiger.html\">TIGER Example</a> in which a detection task is done with the same data as used below\n",
    ":::"
   ]
  },
  {
   "cell_type": "code",
   "execution_count": 68,
   "id": "97147fc4-f654-406f-bbaf-aa6926111e14",
   "metadata": {},
   "outputs": [
    {
     "name": "stdout",
     "output_type": "stream",
     "text": [
      "download: s3://tiger-training/wsirois/wsi-level-annotations/images/100B.tif to ../../../../../../../../../../../tmp/100B.tif\n",
      "download: s3://tiger-training/wsirois/wsi-level-annotations/annotations-tissue-cells-xmls/100B.xml to ../../../../../../../../../../../tmp/100B.xml\n"
     ]
    }
   ],
   "source": [
    "!aws s3 cp --no-sign-request s3://tiger-training/wsirois/wsi-level-annotations/images/100B.tif /tmp\n",
    "!aws s3 cp --no-sign-request s3://tiger-training/wsirois/wsi-level-annotations/annotations-tissue-cells-xmls/100B.xml /tmp"
   ]
  },
  {
   "cell_type": "code",
   "execution_count": 125,
   "id": "2f0b6fb2-b91a-4db8-98c0-2c030a063455",
   "metadata": {},
   "outputs": [],
   "source": [
    "wsa = WholeSlideAnnotation('/tmp/100B.xml', sample_label_names=['roi'])\n",
    "roi = wsa.sampling_annotations[0]\n",
    "from wholeslidedata.samplers.patchlabelsampler import DetectionPatchLabelSampler"
   ]
  },
  {
   "cell_type": "code",
   "execution_count": 132,
   "id": "38d5980f-6540-4e3e-ab84-53fcce5ab95a",
   "metadata": {},
   "outputs": [],
   "source": [
    "detection_patch_sampler = DetectionPatchLabelSampler(max_number_objects=100, detection_labels='lymphocytes and plasma cells')"
   ]
  },
  {
   "cell_type": "code",
   "execution_count": 133,
   "id": "0f6e17d1-e0b3-4044-8e6d-1e6b84c96d97",
   "metadata": {},
   "outputs": [],
   "source": [
    "objects = np.array(detection_patch_sampler.sample(wsa,  roi.center, roi.size, ratio=1))"
   ]
  },
  {
   "cell_type": "code",
   "execution_count": 134,
   "id": "4a545847-0fe5-4646-b2d8-756731e12e91",
   "metadata": {},
   "outputs": [
    {
     "data": {
      "text/plain": [
       "array([[ 248,   89,  266,  107,    6,    1],\n",
       "       [ 265,  867,  283,  885,    6,    1],\n",
       "       [ 340,  343,  358,  361,    6,    1],\n",
       "       [ 390,  766,  408,  784,    6,    1],\n",
       "       [ 394,  792,  412,  810,    6,    1],\n",
       "       [ 420,  353,  438,  371,    6,    1],\n",
       "       [ 425,  331,  443,  349,    6,    1],\n",
       "       [ 433,  319,  451,  337,    6,    1],\n",
       "       [ 436, 1117,  454, 1135,    6,    1],\n",
       "       [ 439,  336,  457,  354,    6,    1],\n",
       "       [ 452,  308,  470,  326,    6,    1],\n",
       "       [ 483,  375,  501,  393,    6,    1],\n",
       "       [ 488, 1133,  506, 1151,    6,    1],\n",
       "       [ 489,  405,  507,  423,    6,    1],\n",
       "       [ 570,  408,  588,  426,    6,    1],\n",
       "       [ 604,  673,  622,  691,    6,    1],\n",
       "       [ 617,  501,  635,  519,    6,    1],\n",
       "       [ 630,  459,  648,  477,    6,    1],\n",
       "       [ 648,  341,  666,  359,    6,    1],\n",
       "       [ 667,  468,  685,  486,    6,    1],\n",
       "       [ 744,  331,  762,  349,    6,    1],\n",
       "       [ 754,  709,  772,  727,    6,    1],\n",
       "       [ 770,  331,  788,  349,    6,    1],\n",
       "       [ 805,  724,  823,  742,    6,    1]], dtype=int32)"
      ]
     },
     "execution_count": 134,
     "metadata": {},
     "output_type": "execute_result"
    }
   ],
   "source": [
    "objects[objects[...,-1]>0].astype(\"int32\")"
   ]
  }
 ],
 "metadata": {
  "kernelspec": {
   "display_name": "Python 3 (ipykernel)",
   "language": "python",
   "name": "python3"
  },
  "language_info": {
   "codemirror_mode": {
    "name": "ipython",
    "version": 3
   },
   "file_extension": ".py",
   "mimetype": "text/x-python",
   "name": "python",
   "nbconvert_exporter": "python",
   "pygments_lexer": "ipython3",
   "version": "3.9.15"
  }
 },
 "nbformat": 4,
 "nbformat_minor": 5
}
