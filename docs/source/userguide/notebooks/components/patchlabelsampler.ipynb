{
 "cells": [
  {
   "cell_type": "markdown",
   "id": "e89abfc0",
   "metadata": {},
   "source": [
    "# PatchLabelSampler"
   ]
  },
  {
   "cell_type": "code",
   "execution_count": null,
   "id": "0c1a9a9d",
   "metadata": {},
   "outputs": [],
   "source": []
  }
 ],
 "metadata": {
  "kernelspec": {
   "display_name": "Python 3",
   "language": "python",
   "name": "python3"
  },
  "language_info": {
   "codemirror_mode": {
    "name": "ipython",
    "version": 3
   },
   "file_extension": ".py",
   "mimetype": "text/x-python",
   "name": "python",
   "nbconvert_exporter": "python",
   "pygments_lexer": "ipython3",
   "version": "3.8.5"
  }
 },
 "nbformat": 4,
 "nbformat_minor": 5
}
